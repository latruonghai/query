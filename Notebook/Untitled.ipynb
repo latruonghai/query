{
 "cells": [
  {
   "cell_type": "code",
   "execution_count": null,
   "metadata": {},
   "outputs": [],
   "source": [
    "import requests\n",
    "import bs4\n",
    "import "
   ]
  },
  {
   "cell_type": "code",
   "execution_count": null,
   "metadata": {},
   "outputs": [],
   "source": [
    "def letCrawl(self):\n",
    "        url =self.url\n",
    "        tempUrl = self.tempUrl\n",
    "        # Do su dung khoang thoi gian nen khi thay doi trang se + 'temp' vao tempurl\n",
    "        # Vi du: https://vnexpress.net/thoi-su-p2\n",
    "        temp = 2\n",
    "        # Get date of today and date of last month\n",
    "        today = datetime.today()\n",
    "        eltaday = timedelta(days =30)\n",
    "        lastmonth = today - eltaday\n",
    "        #tday_stamp = datetime.timestramp(today)\n",
    "        lmon_stamp = datetime.timestamp(lastmonth)\n",
    "        src = []\n",
    "        Date = []\n",
    "        titles = []\n",
    "        pattern = '(\\d)+/(\\d)+/(\\d){4}'\n",
    "        #d\n",
    "        dem = 0\n",
    "        out = False\n",
    "        while True:\n",
    "            soup = self.get_page_content(url)\n",
    "            sources = [s.find('a').get('href') for s in soup.findAll('h3',class_= 'title-news')]\n",
    "            #print(len(sources))\n",
    "            print(temp)\n",
    "            for srcs in sources:\n",
    "                soup = self.get_page_content(srcs)\n",
    "                        #print\n",
    "                title = soup.find('h1',class_ = 'title-detail')\n",
    "                if title !=None:\n",
    "                    \n",
    "                    dates = soup.find('span', class_= 'date').text\n",
    "                    datestring= re.search(pattern,dates).group()\n",
    "                    #day = date(year = datetimes[2], month = datetimes[1], day = datetimes[0])\n",
    "                    date_object = datetime.strptime(datestring, \"%d/%m/%Y\")\n",
    "                    d_stamp = datetime.timestamp(date_object)\n",
    "                    if (d_stamp<lmon_stamp):\n",
    "                        out = True\n",
    "                        break\n",
    "                        \n",
    "                    titles.append(title.text)\n",
    "                    Date.append(dates)\n",
    "                    src.append(srcs)\n",
    "            if out:\n",
    "                break\n",
    "            else:\n",
    "                url = tempurl + str(temp)\n",
    "                temp+=1\n",
    "        return (titles, Date, src)"
   ]
  }
 ],
 "metadata": {
  "kernelspec": {
   "display_name": "Python 3.8.3 64-bit ('foo': conda)",
   "language": "python",
   "name": "python38364bitfoocondaa93fb2234420416a9eaa26ad5f935624"
  },
  "language_info": {
   "codemirror_mode": {
    "name": "ipython",
    "version": 3
   },
   "file_extension": ".py",
   "mimetype": "text/x-python",
   "name": "python",
   "nbconvert_exporter": "python",
   "pygments_lexer": "ipython3",
   "version": "3.8.3"
  }
 },
 "nbformat": 4,
 "nbformat_minor": 4
}
