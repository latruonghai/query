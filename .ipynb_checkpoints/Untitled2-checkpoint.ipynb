{
 "cells": [
  {
   "cell_type": "code",
   "execution_count": 3,
   "metadata": {},
   "outputs": [],
   "source": [
    "from truyVan import TruyVan"
   ]
  },
  {
   "cell_type": "code",
   "execution_count": 4,
   "metadata": {},
   "outputs": [],
   "source": [
    "word = \"'Trump' and 'Biden' or not 'Trung'\"\n",
    "data = 'datas/*.txt'"
   ]
  },
  {
   "cell_type": "code",
   "execution_count": 5,
   "metadata": {},
   "outputs": [],
   "source": [
    "tv = TruyVan(word, data)"
   ]
  },
  {
   "cell_type": "code",
   "execution_count": 6,
   "metadata": {
    "scrolled": true
   },
   "outputs": [
    {
     "name": "stdout",
     "output_type": "stream",
     "text": [
      "Help on TruyVan in module truyVan object:\n",
      "\n",
      "class TruyVan(builtins.object)\n",
      " |  TruyVan(tv, data)\n",
      " |  \n",
      " |  # Doc noi dung cua tung file text\n",
      " |  # tach tung tu trong file text\n",
      " |  # Xay dung tap 'dictionary' chua danh sach cac tu\n",
      " |  \n",
      " |  Methods defined here:\n",
      " |  \n",
      " |  Logic(self, clauses, logic)\n",
      " |      # Buoc 4: Xay Dung Luan Ly\n",
      " |  \n",
      " |  Query(self, clause, file)\n",
      " |      # Thuc hien truy van 1 van ban\n",
      " |  \n",
      " |  __init__(self, tv, data)\n",
      " |      Initialize self.  See help(type(self)) for accurate signature.\n",
      " |  \n",
      " |  defTerm(self)\n",
      " |      # Buoc 3: Xac dinh cau truy van\n",
      " |  \n",
      " |  detQuer(self, words, termDoc)\n",
      " |      # Xac dinh tap luan ly\n",
      " |  \n",
      " |  filePaths(self, path)\n",
      " |      # Tao tap cac duong dan\n",
      " |  \n",
      " |  getQuery(self, folder)\n",
      " |      # Buoc 6: Xay dung tap van ban chua du lieu truy van\n",
      " |  \n",
      " |  inverted_files(self, words, texts)\n",
      " |      # Buoc 2.1: Xay dung inverted-files\n",
      " |  \n",
      " |  parseWord(self, file_paths)\n",
      " |      # Xay dung tap dictionary chua cac tu can truy van\n",
      " |      # va tap 'lst_contents' chua tap cac van ban de so sanh\n",
      " |  \n",
      " |  termMattrix(self, words, texts)\n",
      " |      # Buoc 2: xay dung ma tran Term-Document\n",
      " |  \n",
      " |  truyVan(self)\n",
      " |      # Buoc 5: Thuc Hien truy van nhieu van ban\n",
      " |  \n",
      " |  ----------------------------------------------------------------------\n",
      " |  Data descriptors defined here:\n",
      " |  \n",
      " |  __dict__\n",
      " |      dictionary for instance variables (if defined)\n",
      " |  \n",
      " |  __weakref__\n",
      " |      list of weak references to the object (if defined)\n",
      "\n"
     ]
    }
   ],
   "source": [
    "help(tv)"
   ]
  },
  {
   "cell_type": "code",
   "execution_count": 7,
   "metadata": {},
   "outputs": [
    {
     "data": {
      "text/plain": [
       "['datas/text-10.txt',\n",
       " 'datas/text-12.txt',\n",
       " 'datas/text-13.txt',\n",
       " 'datas/text-8.txt',\n",
       " 'datas/text-9.txt']"
      ]
     },
     "execution_count": 7,
     "metadata": {},
     "output_type": "execute_result"
    }
   ],
   "source": [
    "file_path = tv.filePaths(data)\n",
    "file_path"
   ]
  },
  {
   "cell_type": "code",
   "execution_count": 23,
   "metadata": {},
   "outputs": [
    {
     "name": "stdout",
     "output_type": "stream",
     "text": [
      "['Trump', 'Biden', 'Trung']\n"
     ]
    }
   ],
   "source": [
    "dictionary, lst_content = tv.parseWord(file_path)\n",
    "inverted_file = tv.inverted_files(dictionary, lst_content)\n",
    "clause, logic = tv.defTerm()\n",
    "print(clause)"
   ]
  },
  {
   "cell_type": "code",
   "execution_count": 27,
   "metadata": {},
   "outputs": [
    {
     "name": "stdout",
     "output_type": "stream",
     "text": [
      "['A', 'O', 'N']\n"
     ]
    }
   ],
   "source": [
    "def BienDoiLuanLy(tv, words, inv_file):\n",
    "    terms, logic = tv.defTerm()\n",
    "    clauses = []\n",
    "    for term in terms:\n",
    "        try:\n",
    "            setWord = inv_file[term]\n",
    "            clauses.append(setWord)\n",
    "        except:\n",
    "            clauses.append(set())\n",
    "            \n",
    "    return clauses, logic\n",
    "clause, logic = BienDoiLuanLy(tv, dictionary, inverted_file)\n",
    "print(logic)"
   ]
  },
  {
   "cell_type": "code",
   "execution_count": 35,
   "metadata": {},
   "outputs": [],
   "source": [
    "def TruyVan_inverted(clause, logic):    \n",
    "    default = clause[0].copy()\n",
    "    #print(default)\n",
    "    index = 1\n",
    "    iLog = 0\n",
    "    stop = len(clause)\n",
    "    lenght = len(default)\n",
    "    allText = {i for i in range(len(lst_content))}\n",
    "    print(allText)\n",
    "    while True:\n",
    "        \n",
    "        if index == stop:\n",
    "            break\n",
    "        else:\n",
    "            term = clause[index]\n",
    "            logi = logic[iLog]\n",
    "            try:\n",
    "                front = logic[iLog+1]\n",
    "            except:\n",
    "                front = ''\n",
    "            \n",
    "            #print(logi)\n",
    "            if front =='N':\n",
    "                term = allText - term\n",
    "                print('Term: ',term)\n",
    "                iLog+=1\n",
    "            if logi == 'A':\n",
    "                print(term)\n",
    "                default = default.intersection(term)\n",
    "                print(default)\n",
    "            elif logi == 'O':\n",
    "                print(term)\n",
    "                default = default.union(term)\n",
    "                print (default)\n",
    "            elif logi == 'X':\n",
    "                print(term)\n",
    "                default = default.symmetric_difference(term)\n",
    "                print(default)\n",
    "            index+=1\n",
    "    return list(default)"
   ]
  },
  {
   "cell_type": "code",
   "execution_count": 36,
   "metadata": {},
   "outputs": [
    {
     "data": {
      "text/plain": [
       "array(['1', '1', '1', '1', '1'], dtype='<U3')"
      ]
     },
     "execution_count": 36,
     "metadata": {},
     "output_type": "execute_result"
    }
   ],
   "source": [
    "clauses, logics = tv.detQuer(dictionary, tv.termMattrix(dictionary, lst_content))\n",
    "tv.Logic(clauses, logics)"
   ]
  },
  {
   "cell_type": "code",
   "execution_count": 37,
   "metadata": {},
   "outputs": [
    {
     "name": "stdout",
     "output_type": "stream",
     "text": [
      "{0, 1, 2, 3, 4}\n",
      "{1, 2, 3}\n",
      "{1, 2, 3}\n",
      "{3}\n",
      "{3}\n"
     ]
    },
    {
     "data": {
      "text/plain": [
       "[3]"
      ]
     },
     "execution_count": 37,
     "metadata": {},
     "output_type": "execute_result"
    }
   ],
   "source": [
    "TruyVan_inverted(clause, logic)"
   ]
  },
  {
   "cell_type": "code",
   "execution_count": 13,
   "metadata": {},
   "outputs": [
    {
     "data": {
      "text/plain": [
       "{0, 1, 2, 3, 4, 5, 6, 7, 8, 9}"
      ]
     },
     "execution_count": 13,
     "metadata": {},
     "output_type": "execute_result"
    }
   ],
   "source": [
    "a"
   ]
  },
  {
   "cell_type": "code",
   "execution_count": 14,
   "metadata": {},
   "outputs": [
    {
     "data": {
      "text/plain": [
       "{1}"
      ]
     },
     "execution_count": 14,
     "metadata": {},
     "output_type": "execute_result"
    }
   ],
   "source": [
    "a = {1,2,3,4}\n",
    "b = {2,3,4,5}\n",
    "a - b"
   ]
  },
  {
   "cell_type": "code",
   "execution_count": null,
   "metadata": {},
   "outputs": [],
   "source": []
  }
 ],
 "metadata": {
  "kernelspec": {
   "display_name": "Python 3.8.3 64-bit ('foo': conda)",
   "language": "python",
   "name": "python38364bitfoocondaa93fb2234420416a9eaa26ad5f935624"
  },
  "language_info": {
   "codemirror_mode": {
    "name": "ipython",
    "version": 3
   },
   "file_extension": ".py",
   "mimetype": "text/x-python",
   "name": "python",
   "nbconvert_exporter": "python",
   "pygments_lexer": "ipython3",
   "version": "3.8.3"
  }
 },
 "nbformat": 4,
 "nbformat_minor": 4
}
