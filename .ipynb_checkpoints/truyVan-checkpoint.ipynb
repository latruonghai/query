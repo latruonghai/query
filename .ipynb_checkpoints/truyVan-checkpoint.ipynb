{
 "cells": [
  {
   "cell_type": "code",
   "execution_count": 1,
   "metadata": {},
   "outputs": [],
   "source": [
    "import glob\n",
    "import numpy as np\n",
    "import re\n",
    "import os"
   ]
  },
  {
   "cell_type": "code",
   "execution_count": 2,
   "metadata": {},
   "outputs": [],
   "source": [
    "# Buoc 1: Doc File text trong thu muc 'Data'\n",
    "# va xay dung tap tu dien\n",
    "# Lay danh sach file text trong thu muc data\n",
    "file_paths = glob.glob('data/*.txt')"
   ]
  },
  {
   "cell_type": "code",
   "execution_count": 3,
   "metadata": {},
   "outputs": [
    {
     "data": {
      "text/plain": [
       "['data/t.txt',\n",
       " 'data/text.txt',\n",
       " 'data/text2.txt',\n",
       " 'data/text3.txt',\n",
       " 'data/text4.txt',\n",
       " 'data/xi.txt']"
      ]
     },
     "execution_count": 3,
     "metadata": {},
     "output_type": "execute_result"
    }
   ],
   "source": [
    "file_paths"
   ]
  },
  {
   "cell_type": "code",
   "execution_count": 4,
   "metadata": {},
   "outputs": [],
   "source": [
    "# Doc noi dung cua tung file text\n",
    "# tach tung tu trong file text\n",
    "# Xay dung tap 'dictionary' chua danh sach cac tu\n",
    "lst_contents = []\n",
    "dictionary = set()\n",
    "\n",
    "for path in file_paths:\n",
    "    with open(path,'r') as file:\n",
    "        string = file.read()\n",
    "        # Loai bo ki tu dac biet\n",
    "        content = set(re.sub('[^\\w\\s\\/]','',string).split())\n",
    "        lst_contents.append(content)\n",
    "        dictionary.update(content)\n",
    "dictionary = list(dictionary)"
   ]
  },
  {
   "cell_type": "code",
   "execution_count": 5,
   "metadata": {},
   "outputs": [],
   "source": [
    "# Buoc 2: xay dung ma tran Term-Document\n",
    "termDoc = np.zeros((len(dictionary),len(file_paths)))\n",
    "for index1, content1 in enumerate(dictionary):\n",
    "    for index2, content2 in enumerate(lst_contents):\n",
    "        if content1 in content2:\n",
    "            #print('Word: {} in text: {}'.format(content1,index2+1))\n",
    "            termDoc[index1,index2] = 1\n",
    "termDoc = termDoc.astype('uint8').astype('str')"
   ]
  },
  {
   "cell_type": "code",
   "execution_count": 9,
   "metadata": {},
   "outputs": [],
   "source": [
    "# Buoc 3: Xac dinh cau truy van\n",
    "def detQuer(truyVan):\n",
    "    #truyVan = \"'Trump' and 'Biden'\"\n",
    "    pattern1 = \"'(\\w+)\"\n",
    "    # Lay Logic\n",
    "    pattern2 = '([oOAaxXnN])\\w+\\s'\n",
    "    terms = re.findall(pattern1, truyVan)\n",
    "    logic = re.findall(pattern2,truyVan)\n",
    "    logic = [s.capitalize() for s in logic]\n",
    "    clauses = []\n",
    "    #print(logic)\n",
    "    #print(terms)\n",
    "    for term in terms:\n",
    "        try:\n",
    "            index = dictionary.index(term)\n",
    "            query = termDoc[index,:]\n",
    "            clauses.append(query)\n",
    "            #print(query)\n",
    "        except:\n",
    "            print(f'Error! The Word \\'{term}\\' is not in the query')\n",
    "            clauses.append(np.zeros((1,len(lst_contents))).astype('uint8').astype('str')[0])\n",
    "    return clauses\n",
    "    #print(clauses)"
   ]
  },
  {
   "cell_type": "code",
   "execution_count": 26,
   "metadata": {},
   "outputs": [
    {
     "name": "stdout",
     "output_type": "stream",
     "text": [
      "Văn bản 2: \n",
      "Trung Quốc 'đắc lợi' sau tranh luận Trump - Biden\n",
      "\n",
      "Không phải Trump hay Biden chiến thắng cuộc tranh luận đầu tiên đầy hỗn loạn, giới chuyên gia nhận định Trung Quốc mới là \"người thắng\" của cuộc đối đầu.\n",
      "\n",
      "Trong cuộc tranh luận tổng thống hỗn loạn, xấu xí như \"tai nạn tàu hỏa\" tối 29/9 (sáng 30/9 giờ Hà Nội) tại Cleveland, một trong số điều ít ỏi mà hai ứng viên Donald Trump và Joe Biden tìm thấy điểm chung là thái độ chống Trung Quốc.\n",
      "\n",
      "Song cả hai chỉ trích lẫn nhau vì quá mềm mỏng với Bắc Kinh. Trump cáo buộc Biden bị Trung Quốc \"bịt mắt\" trong suốt thời gian làm phó tổng thống. Ngược lại, Biden công kích Trump vì từng ca ngợi Chủ tịch Tập Cận Bình \"đã làm công việc tuyệt vời\" vào thời điểm dịch Covid-19 khởi phát.\n",
      "Dù Bắc Kinh không muốn trở thành chủ đề trong toàn bộ cuộc bầu cử Mỹ và sự đồng thuận hiếm hoi cho thấy làn sóng chống Trung Quốc ngày càng gia tăng ở Washington. Cuộc tranh luận cũng được cho giúp nâng cao tinh thần ở thủ đô Bắc Kinh, theo James Griffiths, nhà bình luận của CNN.\n",
      "\n"
     ]
    }
   ],
   "source": [
    "# Buoc 4: Xay Dung Luan Ly\n",
    "default = clauses[0].copy()\n",
    "index = 1\n",
    "iLog = 0\n",
    "stop = len(clauses)\n",
    "length = len(default)\n",
    "dic = {'A': 'and', 'O': 'or', 'X': '^'}\n",
    "while True:\n",
    "    if index == stop:\n",
    "        break\n",
    "    else:\n",
    "        try:\n",
    "            front = logic[iLog+1]\n",
    "        except:\n",
    "            front = ''\n",
    "        #print(front)\n",
    "        logi = dic[logic[iLog]]\n",
    "        term = clauses[index]\n",
    "        if front == 'N':\n",
    "            for i in range(length):\n",
    "                string = default[i] + \" \"+ logi+\" not \" + term[i]\n",
    "                    #print(string)\n",
    "                default[i] = int(eval(string))\n",
    "            iLog+=2\n",
    "        else:\n",
    "            for i in range(length):\n",
    "                string = default[i] + \" \"+ logi+\" \" + term[i]\n",
    "                    #print(string)\n",
    "                default[i] = int(eval(string))\n",
    "            #print(eval(string))\n",
    "            iLog+=1\n",
    "        index+=1\n",
    "return default\n",
    "        #iLog+=1\n",
    "#print(default)\n",
    "for i in range(len(default)):\n",
    "    if (default[i] == '1'):\n",
    "        with open(file_paths[i],'r') as f:\n",
    "            string = f.read()\n",
    "            print(f'Văn bản {i+1}: \\n{string}')"
   ]
  },
  {
   "cell_type": "code",
   "execution_count": 10,
   "metadata": {},
   "outputs": [
    {
     "data": {
      "text/plain": [
       "[array(['0', '1', '0', '0', '0', '0'], dtype='<U3'),\n",
       " array(['0', '1', '0', '0', '0', '0'], dtype='<U3')]"
      ]
     },
     "execution_count": 10,
     "metadata": {},
     "output_type": "execute_result"
    }
   ],
   "source": [
    "tv = \"'Trump' and 'Biden'\"\n",
    "a = detQuer(tv)\n",
    "a"
   ]
  },
  {
   "cell_type": "code",
   "execution_count": null,
   "metadata": {},
   "outputs": [],
   "source": []
  }
 ],
 "metadata": {
  "kernelspec": {
   "display_name": "Python 3.8.3 64-bit ('foo': conda)",
   "language": "python",
   "name": "python38364bitfoocondaa93fb2234420416a9eaa26ad5f935624"
  },
  "language_info": {
   "codemirror_mode": {
    "name": "ipython",
    "version": 3
   },
   "file_extension": ".py",
   "mimetype": "text/x-python",
   "name": "python",
   "nbconvert_exporter": "python",
   "pygments_lexer": "ipython3",
   "version": "3.8.3"
  }
 },
 "nbformat": 4,
 "nbformat_minor": 4
}
