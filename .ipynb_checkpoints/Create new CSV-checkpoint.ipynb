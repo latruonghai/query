{
 "cells": [
  {
   "cell_type": "code",
   "execution_count": 1,
   "metadata": {},
   "outputs": [],
   "source": [
    "import pandas as pd\n",
    "import numpy as np"
   ]
  },
  {
   "cell_type": "code",
   "execution_count": 8,
   "metadata": {},
   "outputs": [],
   "source": [
    "path = 'lib/Flask/Source.csv'"
   ]
  },
  {
   "cell_type": "code",
   "execution_count": 9,
   "metadata": {},
   "outputs": [
    {
     "data": {
      "text/html": [
       "<div>\n",
       "<style scoped>\n",
       "    .dataframe tbody tr th:only-of-type {\n",
       "        vertical-align: middle;\n",
       "    }\n",
       "\n",
       "    .dataframe tbody tr th {\n",
       "        vertical-align: top;\n",
       "    }\n",
       "\n",
       "    .dataframe thead th {\n",
       "        text-align: right;\n",
       "    }\n",
       "</style>\n",
       "<table border=\"1\" class=\"dataframe\">\n",
       "  <thead>\n",
       "    <tr style=\"text-align: right;\">\n",
       "      <th></th>\n",
       "      <th>Files name</th>\n",
       "      <th>Titles</th>\n",
       "      <th>Sources</th>\n",
       "    </tr>\n",
       "  </thead>\n",
       "  <tbody>\n",
       "    <tr>\n",
       "      <th>0</th>\n",
       "      <td>corpus_0000.txt</td>\n",
       "      <td>Du lịch Phan Thiết: Tất cả kinh nghiệm, điểm đ...</td>\n",
       "      <td>https://dulichchat.com/du-lich-phan-thiet-tat-...</td>\n",
       "    </tr>\n",
       "    <tr>\n",
       "      <th>1</th>\n",
       "      <td>corpus_0001.txt</td>\n",
       "      <td>Du lịch Phú Quốc tháng 10 – 4N3Đ nghỉ dưỡng tu...</td>\n",
       "      <td>https://dulichchat.com/du-lich-phu-quoc-thang-...</td>\n",
       "    </tr>\n",
       "    <tr>\n",
       "      <th>2</th>\n",
       "      <td>corpus_0012.txt</td>\n",
       "      <td>Review du lịch Quy Nhơn – Phú Yên 4N3Đ tận hưở...</td>\n",
       "      <td>https://dulichchat.com/review-du-lich-quy-nhon...</td>\n",
       "    </tr>\n",
       "    <tr>\n",
       "      <th>3</th>\n",
       "      <td>corpus_0013.txt</td>\n",
       "      <td>Du lịch Sapa tháng 11 tất tần tật – Có hẹn với...</td>\n",
       "      <td>https://dulichchat.com/du-lich-sapa-thang-11-t...</td>\n",
       "    </tr>\n",
       "    <tr>\n",
       "      <th>4</th>\n",
       "      <td>corpus_0014.txt</td>\n",
       "      <td>Kinh nghiệm du lịch Phú Quốc tháng 11 3N2Đ tận...</td>\n",
       "      <td>https://dulichchat.com/kinh-nghiem-du-lich-phu...</td>\n",
       "    </tr>\n",
       "    <tr>\n",
       "      <th>...</th>\n",
       "      <td>...</td>\n",
       "      <td>...</td>\n",
       "      <td>...</td>\n",
       "    </tr>\n",
       "    <tr>\n",
       "      <th>1953</th>\n",
       "      <td>corpus_1846.txt</td>\n",
       "      <td>Người đầu tiên vòng quanh thế giới trong 72 ngày</td>\n",
       "      <td>https://vnexpress.net/nguoi-dau-tien-vong-quan...</td>\n",
       "    </tr>\n",
       "    <tr>\n",
       "      <th>1954</th>\n",
       "      <td>NaN</td>\n",
       "      <td>Nhịp sống Sài Gòn về đêm</td>\n",
       "      <td>https://vnexpress.net/nhip-song-sai-gon-ve-dem...</td>\n",
       "    </tr>\n",
       "    <tr>\n",
       "      <th>1955</th>\n",
       "      <td>corpus_1847.txt</td>\n",
       "      <td>Hải đăng giữa biển thành khách sạn sang</td>\n",
       "      <td>https://vnexpress.net/hai-dang-giua-bien-thanh...</td>\n",
       "    </tr>\n",
       "    <tr>\n",
       "      <th>1956</th>\n",
       "      <td>corpus_1848.txt</td>\n",
       "      <td>Hà Nội se lạnh nên ăn những món nào?</td>\n",
       "      <td>https://vnexpress.net/ha-noi-se-lanh-nen-an-nh...</td>\n",
       "    </tr>\n",
       "    <tr>\n",
       "      <th>1957</th>\n",
       "      <td>corpus_1849.txt</td>\n",
       "      <td>Đà Nẵng tung chiến dịch mới kéo khách trở lại</td>\n",
       "      <td>https://vnexpress.net/da-nang-tung-chien-dich-...</td>\n",
       "    </tr>\n",
       "  </tbody>\n",
       "</table>\n",
       "<p>1958 rows × 3 columns</p>\n",
       "</div>"
      ],
      "text/plain": [
       "           Files name                                             Titles  \\\n",
       "0     corpus_0000.txt  Du lịch Phan Thiết: Tất cả kinh nghiệm, điểm đ...   \n",
       "1     corpus_0001.txt  Du lịch Phú Quốc tháng 10 – 4N3Đ nghỉ dưỡng tu...   \n",
       "2     corpus_0012.txt  Review du lịch Quy Nhơn – Phú Yên 4N3Đ tận hưở...   \n",
       "3     corpus_0013.txt  Du lịch Sapa tháng 11 tất tần tật – Có hẹn với...   \n",
       "4     corpus_0014.txt  Kinh nghiệm du lịch Phú Quốc tháng 11 3N2Đ tận...   \n",
       "...               ...                                                ...   \n",
       "1953  corpus_1846.txt   Người đầu tiên vòng quanh thế giới trong 72 ngày   \n",
       "1954              NaN                           Nhịp sống Sài Gòn về đêm   \n",
       "1955  corpus_1847.txt            Hải đăng giữa biển thành khách sạn sang   \n",
       "1956  corpus_1848.txt               Hà Nội se lạnh nên ăn những món nào?   \n",
       "1957  corpus_1849.txt      Đà Nẵng tung chiến dịch mới kéo khách trở lại   \n",
       "\n",
       "                                                Sources  \n",
       "0     https://dulichchat.com/du-lich-phan-thiet-tat-...  \n",
       "1     https://dulichchat.com/du-lich-phu-quoc-thang-...  \n",
       "2     https://dulichchat.com/review-du-lich-quy-nhon...  \n",
       "3     https://dulichchat.com/du-lich-sapa-thang-11-t...  \n",
       "4     https://dulichchat.com/kinh-nghiem-du-lich-phu...  \n",
       "...                                                 ...  \n",
       "1953  https://vnexpress.net/nguoi-dau-tien-vong-quan...  \n",
       "1954  https://vnexpress.net/nhip-song-sai-gon-ve-dem...  \n",
       "1955  https://vnexpress.net/hai-dang-giua-bien-thanh...  \n",
       "1956  https://vnexpress.net/ha-noi-se-lanh-nen-an-nh...  \n",
       "1957  https://vnexpress.net/da-nang-tung-chien-dich-...  \n",
       "\n",
       "[1958 rows x 3 columns]"
      ]
     },
     "execution_count": 9,
     "metadata": {},
     "output_type": "execute_result"
    }
   ],
   "source": [
    "df = pd.read_csv(path)\n",
    "df"
   ]
  },
  {
   "cell_type": "code",
   "execution_count": 4,
   "metadata": {},
   "outputs": [
    {
     "data": {
      "text/plain": [
       "'Du lịch Phú Quốc tháng 10 – 4N3Đ nghỉ dưỡng tuyệt vời chỉ khoảng 7 triệu/người'"
      ]
     },
     "execution_count": 4,
     "metadata": {},
     "output_type": "execute_result"
    }
   ],
   "source": [
    "name = ['corpus_0282.txt', 'corpus_1150.txt', 'corpus_0562.txt', 'corpus_0528.txt', 'corpus_0417.txt']"
   ]
  },
  {
   "cell_type": "code",
   "execution_count": 5,
   "metadata": {},
   "outputs": [],
   "source": [
    "a = df[df['Titles'] == 'Du lịch Phú Quốc tháng 10 – 4N3Đ nghỉ dưỡng tuyệt vời chỉ khoảng 7 triệu/người'].index[0]"
   ]
  },
  {
   "cell_type": "code",
   "execution_count": 6,
   "metadata": {},
   "outputs": [
    {
     "data": {
      "text/plain": [
       "1"
      ]
     },
     "execution_count": 6,
     "metadata": {},
     "output_type": "execute_result"
    }
   ],
   "source": [
    "a"
   ]
  },
  {
   "cell_type": "code",
   "execution_count": 7,
   "metadata": {},
   "outputs": [
    {
     "data": {
      "text/plain": [
       "pandas.core.series.Series"
      ]
     },
     "execution_count": 7,
     "metadata": {},
     "output_type": "execute_result"
    }
   ],
   "source": [
    "type(df['Titles'])"
   ]
  },
  {
   "cell_type": "code",
   "execution_count": 53,
   "metadata": {},
   "outputs": [],
   "source": [
    "df1 = pd.DataFrame({'ALo': a})\n",
    "df1.to_csv('Hello.csv', header=True, index=None)"
   ]
  },
  {
   "cell_type": "code",
   "execution_count": 66,
   "metadata": {},
   "outputs": [
    {
     "data": {
      "text/plain": [
       "array(['Cẩm Nang Du Lịch Myanmar Từ A-Z',\n",
       "       'Top 5 món ngon Hội An bỏ lỡ một lần thôi là tiếc nuối cả đời',\n",
       "       'Ghé Thăm Sài Gòn Vào Một Ngày Gió Se Lạnh',\n",
       "       '5 Điều Thú Vị Chỉ Có Ở Phố Đi Bộ Hà Nội',\n",
       "       '3 Ngày Trải Nghiệm Phú Yên – Việt Nam Thu Nhỏ Phiên Bản Có 1-0-2',\n",
       "       'Kinh Nghiệm Du Lịch Nha Trang – Đà Lạt 5 Ngày 4 Đêm Tự Túc',\n",
       "       'Kinh nghiệm du lịch Vũng Tàu từ A – Z cho chuyến “chạy trốn” đến biển xanh',\n",
       "       'Ngắm Sài Gòn Đẹp Trong Vắt Những Ngày Đầu Năm 2017',\n",
       "       'Đừng Kết Hôn Nếu Bạn Và Gấu Chưa Đi Du Lịch Chung',\n",
       "       'Tất Tần Tật Về Hostel Hình Ống Độc Đáo Ở Vũng Tàu',\n",
       "       'Muốn Sống Lâu, Hãy Đi Du Lịch!',\n",
       "       'Ký Sự Du Lịch Bụi Huế – Hội An – Đà Nẵng 3 Ngày 2 Đêm (Phần 2)'],\n",
       "      dtype='<U74')"
      ]
     },
     "execution_count": 66,
     "metadata": {},
     "output_type": "execute_result"
    }
   ],
   "source": [
    "a = list(df['Titles'][224:236])\n",
    "df2 = np.array(list(map(strip,df['Titles'][224:236])))\n",
    "df2"
   ]
  },
  {
   "cell_type": "code",
   "execution_count": 51,
   "metadata": {},
   "outputs": [
    {
     "data": {
      "text/plain": [
       "'qhwerhqt'"
      ]
     },
     "execution_count": 51,
     "metadata": {},
     "output_type": "execute_result"
    }
   ],
   "source": [
    "def strip(str):\n",
    "    new = str.split()\n",
    "    #print(new)\n",
    "    return \" \".join(new)\n",
    "strip(\"qhwerhqt    \")"
   ]
  },
  {
   "cell_type": "code",
   "execution_count": null,
   "metadata": {},
   "outputs": [],
   "source": []
  }
 ],
 "metadata": {
  "kernelspec": {
   "display_name": "Python 3.8.3 64-bit ('foo': conda)",
   "language": "python",
   "name": "python38364bitfoocondaa93fb2234420416a9eaa26ad5f935624"
  },
  "language_info": {
   "codemirror_mode": {
    "name": "ipython",
    "version": 3
   },
   "file_extension": ".py",
   "mimetype": "text/x-python",
   "name": "python",
   "nbconvert_exporter": "python",
   "pygments_lexer": "ipython3",
   "version": "3.8.5"
  }
 },
 "nbformat": 4,
 "nbformat_minor": 4
}
