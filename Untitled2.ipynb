{
 "cells": [
  {
   "cell_type": "code",
   "execution_count": 63,
   "metadata": {},
   "outputs": [],
   "source": []
  },
  {
   "cell_type": "code",
   "execution_count": 60,
   "metadata": {},
   "outputs": [],
   "source": [
    "word = \"'Trump' and 'Biden' or not 'Trung'\"\n",
    "data = 'datas/*.txt'"
   ]
  },
  {
   "cell_type": "code",
   "execution_count": 61,
   "metadata": {},
   "outputs": [],
   "source": [
    "tv = TruyVan(word, data)"
   ]
  },
  {
   "cell_type": "code",
   "execution_count": 64,
   "metadata": {
    "scrolled": true
   },
   "outputs": [
    {
     "name": "stderr",
     "output_type": "stream",
     "text": [
      "IOPub data rate exceeded.\n",
      "The notebook server will temporarily stop sending output\n",
      "to the client in order to avoid crashing it.\n",
      "To change this limit, set the config variable\n",
      "`--NotebookApp.iopub_data_rate_limit`.\n",
      "\n",
      "Current values:\n",
      "NotebookApp.iopub_data_rate_limit=1000000.0 (bytes/sec)\n",
      "NotebookApp.rate_limit_window=3.0 (secs)\n",
      "\n"
     ]
    }
   ],
   "source": [
    "help(numpy)"
   ]
  },
  {
   "cell_type": "code",
   "execution_count": 7,
   "metadata": {},
   "outputs": [
    {
     "data": {
      "text/plain": [
       "['datas/text-10.txt',\n",
       " 'datas/text-12.txt',\n",
       " 'datas/text-13.txt',\n",
       " 'datas/text-8.txt',\n",
       " 'datas/text-9.txt']"
      ]
     },
     "execution_count": 7,
     "metadata": {},
     "output_type": "execute_result"
    }
   ],
   "source": [
    "file_path = tv.filePaths(data)\n",
    "file_path"
   ]
  },
  {
   "cell_type": "code",
   "execution_count": 23,
   "metadata": {},
   "outputs": [
    {
     "name": "stdout",
     "output_type": "stream",
     "text": [
      "['Trump', 'Biden', 'Trung']\n"
     ]
    }
   ],
   "source": [
    "dictionary, lst_content = tv.parseWord(file_path)\n",
    "inverted_file = tv.inverted_files(dictionary, lst_content)\n",
    "clause, logic = tv.defTerm()\n",
    "print(clause)"
   ]
  },
  {
   "cell_type": "code",
   "execution_count": 27,
   "metadata": {},
   "outputs": [
    {
     "name": "stdout",
     "output_type": "stream",
     "text": [
      "['A', 'O', 'N']\n"
     ]
    }
   ],
   "source": [
    "def BienDoiLuanLy(tv, words, inv_file):\n",
    "    terms, logic = tv.defTerm()\n",
    "    clauses = []\n",
    "    for term in terms:\n",
    "        try:\n",
    "            setWord = inv_file[term]\n",
    "            clauses.append(setWord)\n",
    "        except:\n",
    "            clauses.append(set())\n",
    "            \n",
    "    return clauses, logic\n",
    "clause, logic = BienDoiLuanLy(tv, dictionary, inverted_file)\n",
    "print(logic)"
   ]
  },
  {
   "cell_type": "code",
   "execution_count": 56,
   "metadata": {},
   "outputs": [],
   "source": [
    "    def TruyVan_inverted(clause, logic):    \n",
    "        default = clause[0].copy()\n",
    "        #print(default)\n",
    "        index = 1\n",
    "        iLog = 0\n",
    "        stop = len(clause)\n",
    "        lenght = len(default)\n",
    "        allText = {i for i in range(len(lst_content))}\n",
    "        while True:\n",
    "\n",
    "            if index == stop:\n",
    "                break\n",
    "            else:\n",
    "\n",
    "                try:\n",
    "                    front = logic[iLog+1]\n",
    "                except:\n",
    "                    front = ''\n",
    "                term = clause[index]\n",
    "                logi = logic[iLog]\n",
    "                if front =='N':\n",
    "                    term = allText - term\n",
    "                    iLog+=1\n",
    "                if logi == 'A':\n",
    "                    default = default.intersection(term)\n",
    "                elif logi == 'O':\n",
    "                    default = default.union(term)\n",
    "                elif logi == 'X':\n",
    "                    default = default.symmetric_difference(term)\n",
    "                index+=1\n",
    "                iLog+=1\n",
    "        return list(default)"
   ]
  },
  {
   "cell_type": "code",
   "execution_count": 57,
   "metadata": {},
   "outputs": [
    {
     "data": {
      "text/plain": [
       "array(['1', '1', '1', '1', '1'], dtype='<U3')"
      ]
     },
     "execution_count": 57,
     "metadata": {},
     "output_type": "execute_result"
    }
   ],
   "source": [
    "clauses, logics = tv.detQuer(dictionary, tv.termMattrix(dictionary, lst_content))\n",
    "tv.Logic(clauses, logics)"
   ]
  },
  {
   "cell_type": "code",
   "execution_count": 58,
   "metadata": {},
   "outputs": [
    {
     "data": {
      "text/plain": [
       "[0, 1, 2, 3, 4]"
      ]
     },
     "execution_count": 58,
     "metadata": {},
     "output_type": "execute_result"
    }
   ],
   "source": [
    "TruyVan_inverted(clause, logic)"
   ]
  },
  {
   "cell_type": "code",
   "execution_count": 13,
   "metadata": {},
   "outputs": [
    {
     "data": {
      "text/plain": [
       "{0, 1, 2, 3, 4, 5, 6, 7, 8, 9}"
      ]
     },
     "execution_count": 13,
     "metadata": {},
     "output_type": "execute_result"
    }
   ],
   "source": [
    "a"
   ]
  },
  {
   "cell_type": "code",
   "execution_count": 14,
   "metadata": {},
   "outputs": [
    {
     "data": {
      "text/plain": [
       "{1}"
      ]
     },
     "execution_count": 14,
     "metadata": {},
     "output_type": "execute_result"
    }
   ],
   "source": [
    "a = {1,2,3,4}\n",
    "b = {2,3,4,5}\n",
    "a - b"
   ]
  },
  {
   "cell_type": "code",
   "execution_count": null,
   "metadata": {},
   "outputs": [],
   "source": []
  }
 ],
 "metadata": {
  "kernelspec": {
   "display_name": "Python 3.8.3 64-bit ('foo': conda)",
   "language": "python",
   "name": "python38364bitfoocondaa93fb2234420416a9eaa26ad5f935624"
  },
  "language_info": {
   "codemirror_mode": {
    "name": "ipython",
    "version": 3
   },
   "file_extension": ".py",
   "mimetype": "text/x-python",
   "name": "python",
   "nbconvert_exporter": "python",
   "pygments_lexer": "ipython3",
   "version": "3.8.3"
  }
 },
 "nbformat": 4,
 "nbformat_minor": 4
}
