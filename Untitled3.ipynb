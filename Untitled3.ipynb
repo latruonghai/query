{
 "cells": [
  {
   "cell_type": "code",
   "execution_count": 1,
   "metadata": {},
   "outputs": [
    {
     "name": "stdout",
     "output_type": "stream",
     "text": [
      "Help on class CQData in module CQData:\n",
      "\n",
      "class CQData(builtins.object)\n",
      " |  CQData(url='https://vi.wikipedia.org/wiki/Wikipedia', tv=' ', numberOfDay=0, web=0, boolean=0)\n",
      " |  \n",
      " |  Methods defined here:\n",
      " |  \n",
      " |  __init__(self, url='https://vi.wikipedia.org/wiki/Wikipedia', tv=' ', numberOfDay=0, web=0, boolean=0)\n",
      " |      Initialize self.  See help(type(self)) for accurate signature.\n",
      " |  \n",
      " |  askForDoing(self)\n",
      " |  \n",
      " |  letDoIt(self)\n",
      " |  \n",
      " |  ----------------------------------------------------------------------\n",
      " |  Data descriptors defined here:\n",
      " |  \n",
      " |  __dict__\n",
      " |      dictionary for instance variables (if defined)\n",
      " |  \n",
      " |  __weakref__\n",
      " |      list of weak references to the object (if defined)\n",
      "\n"
     ]
    }
   ],
   "source": [
    "from CQData import CQData\n",
    "help(CQData)"
   ]
  },
  {
   "cell_type": "code",
   "execution_count": 2,
   "metadata": {},
   "outputs": [
    {
     "name": "stdout",
     "output_type": "stream",
     "text": [
      "Nhập vào câu truy vấn của bạn Tào Tháo đánh Lữ Bố\n",
      "Bạn muốn lấy dữ liệu từ 2 trang web nào?\n",
      "Có 2 lựa chọn cho bạn:\n",
      " \t- Chọn '0' nếu bạn muốn lấy dữ liệu từ Wikipedia \n",
      "\t- Chọn '1' nếu bạn muốn lấy dừ liệu từ VnExpress0\n",
      "Nhập từ khóa cần tìm của bạn vào đây: Tào Tháo\n",
      "Bạn sẽ được truy vấn dưới dạng Inverted Files! \n",
      "File dữ liệu thông tin của bạn đã được Crawl về từ trang web https://vi.wikipedia.org/wiki/Tào_Tháo trong thư mục: /media/lahai/DATA/Study/DAI HOC/NamBa/TruyVan/Tuan4/src/wikipedia/Tào_Tháo/EyXE-16.txt\n",
      "File truy vấn của bạn đã được lưu trong thư mục: /media/lahai/DATA/Study/DAI HOC/NamBa/TruyVan/Tuan4/data/Tào_Tháo/Whwj.txt dưới dạng text!\n"
     ]
    }
   ],
   "source": [
    "cq = CQData(web = 1, numberOfDay = 2)\n",
    "cq.letDoIt()"
   ]
  },
  {
   "cell_type": "code",
   "execution_count": null,
   "metadata": {},
   "outputs": [],
   "source": [
    "Bạn muốn lấy dữ liệu từ 2 trang web nào?\\nCó 2 lựa chọn cho bạn:\\n \\t- Chọn '0' nếu bạn muốn lấy dữ liệu từ Wikipedia \\n\\t- Chọn '1' nếu bạn muốn lấy dừ liệu từ "
   ]
  }
 ],
 "metadata": {
  "kernelspec": {
   "display_name": "Python 3.8.3 64-bit ('foo': conda)",
   "language": "python",
   "name": "python38364bitfoocondaa93fb2234420416a9eaa26ad5f935624"
  },
  "language_info": {
   "codemirror_mode": {
    "name": "ipython",
    "version": 3
   },
   "file_extension": ".py",
   "mimetype": "text/x-python",
   "name": "python",
   "nbconvert_exporter": "python",
   "pygments_lexer": "ipython3",
   "version": "3.8.3"
  }
 },
 "nbformat": 4,
 "nbformat_minor": 4
}
