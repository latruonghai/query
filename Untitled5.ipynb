{
 "cells": [
  {
   "cell_type": "code",
   "execution_count": 5,
   "metadata": {},
   "outputs": [],
   "source": [
    "from CQData import CQData"
   ]
  },
  {
   "cell_type": "code",
   "execution_count": 6,
   "metadata": {},
   "outputs": [
    {
     "name": "stdout",
     "output_type": "stream",
     "text": [
      "Bạn có 3 lựa chọn:\n",
      "\t- Chọn '1' để Crawl\n",
      "\t- Chọn '0' để bỏ qua bước Crawl\n",
      "\t- Chọn '2' để vừa Crawl vừa Truy vấn\n",
      "1\n",
      "Bạn muốn lấy dữ liệu từ 2 trang web nào?\n",
      "Có 2 lựa chọn cho bạn:\n",
      " \t- Chọn '0' nếu bạn muốn lấy dữ liệu từ Wikipedia \n",
      "\t- Chọn '1' nếu bạn muốn lấy dừ liệu từ VnExpress1\n",
      "Nhập đường dẫn trang báo Vnexpress của bạn vào đây: https://vnexpress.net/du-lich\n",
      "Nhập vào khoảng thời gian bạn muốn Crawl 40\n",
      "Bạn sẽ được truy vấn dưới dạng Inverted Files! \n",
      "https://vnexpress.net/du-lich-p1\n",
      "https://vnexpress.net/du-lich\n",
      "https://vnexpress.net/du-lich/p2\n",
      "https://vnexpress.net/du-lich/p3\n",
      "https://vnexpress.net/du-lich/p4\n",
      "https://vnexpress.net/du-lich/p5\n",
      "https://vnexpress.net/du-lich/p6\n",
      "https://vnexpress.net/du-lich/p7\n",
      "https://vnexpress.net/du-lich/p8\n",
      "https://vnexpress.net/du-lich/p9\n",
      "https://vnexpress.net/du-lich/p10\n",
      "https://vnexpress.net/du-lich/p11\n",
      "https://vnexpress.net/du-lich/p12\n",
      "https://vnexpress.net/du-lich/p13\n",
      "https://vnexpress.net/du-lich/p14\n",
      "File đề mục của bạn đã được lưu trong thư mục : /media/lahai/DATA/Study/DAI HOC/NamBa/TruyVan/Tuan4/data/CSV/vnexpress/du-lich/NZdM.csv\n",
      "File dữ liệu thông tin của bạn đã được Crawl về từ trang web https://vnexpress.net/du-lich trong thư mục: /media/lahai/DATA/Study/DAI HOC/NamBa/TruyVan/Tuan4/src/vnexpress/du-lich/jUAD-388.txt\n",
      "Thoi gian thuc thi:  300.5508644580841\n"
     ]
    }
   ],
   "source": [
    "cq = CQData()\n",
    "cq.letDoIt()"
   ]
  },
  {
   "cell_type": "code",
   "execution_count": 3,
   "metadata": {},
   "outputs": [],
   "source": [
    "def subUrl(url, string, isReal = 1 ):\n",
    "            return url + '-p' + string  if isReal else url + '/p' + string\n",
    "    "
   ]
  },
  {
   "cell_type": "code",
   "execution_count": 8,
   "metadata": {},
   "outputs": [
    {
     "data": {
      "text/plain": [
       "'https://vnexpress.net/du-lich/p1'"
      ]
     },
     "execution_count": 8,
     "metadata": {},
     "output_type": "execute_result"
    }
   ],
   "source": [
    "b = subUrl('https://vnexpress.net/du-lich', '1', isReal = 0)\n",
    "b"
   ]
  },
  {
   "cell_type": "code",
   "execution_count": null,
   "metadata": {},
   "outputs": [],
   "source": []
  }
 ],
 "metadata": {
  "kernelspec": {
   "display_name": "Python 3.8.3 64-bit ('foo': conda)",
   "language": "python",
   "name": "python38364bitfoocondaa93fb2234420416a9eaa26ad5f935624"
  },
  "language_info": {
   "codemirror_mode": {
    "name": "ipython",
    "version": 3
   },
   "file_extension": ".py",
   "mimetype": "text/x-python",
   "name": "python",
   "nbconvert_exporter": "python",
   "pygments_lexer": "ipython3",
   "version": "3.8.3"
  }
 },
 "nbformat": 4,
 "nbformat_minor": 4
}
